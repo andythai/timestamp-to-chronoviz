{
 "cells": [
  {
   "cell_type": "code",
   "execution_count": 73,
   "metadata": {
    "collapsed": true
   },
   "outputs": [],
   "source": [
    "import shutil"
   ]
  },
  {
   "cell_type": "code",
   "execution_count": 74,
   "metadata": {
    "collapsed": true
   },
   "outputs": [],
   "source": [
    "# User input (change this string or rewrite this part to prompt to select file later)\n",
    "TIMESTAMP_FILE_PATH = \"INPUT/shaping3_rat5_6_day5.txt\""
   ]
  },
  {
   "cell_type": "code",
   "execution_count": 75,
   "metadata": {},
   "outputs": [],
   "source": [
    "# Load in text file\n",
    "timestamps = open(TIMESTAMP_FILE_PATH, \"r\")\n",
    "code = timestamps.readlines()\n",
    "total = len(code)\n",
    "timestamps.close()"
   ]
  },
  {
   "cell_type": "code",
   "execution_count": 76,
   "metadata": {},
   "outputs": [
    {
     "data": {
      "text/plain": [
       "6"
      ]
     },
     "execution_count": 76,
     "metadata": {},
     "output_type": "execute_result"
    }
   ],
   "source": [
    "# Start writing to annotations\n",
    "annotation = open(\"template.annotation/annotations.xml\",\"w\") \n",
    "annotation.write(\"<?xml version=\\\"1.0\\\" encoding=\\\"UTF-8\\\" standalone=\\\"no\\\"?>\")\n",
    "annotation.write(\"\\n\")\n",
    "annotation.write(\"<data>\")"
   ]
  },
  {
   "cell_type": "code",
   "execution_count": 77,
   "metadata": {},
   "outputs": [],
   "source": [
    "# Insert in timestamps\n",
    "for i in range(0, total):\n",
    "    annotation.write(\"\\n\\t<event startTimeInterval=\\\"\") \n",
    "    pair = str.split(code[i])\n",
    "    event = pair[0]\n",
    "    time = pair[1]\n",
    "    # Write timepoint\n",
    "    annotation.write(time)\n",
    "    annotation.write(\"\\\" \")\n",
    "    # Dummy dates; redundant information for us\n",
    "    annotation.write(\"start=\\\"December 9 9999 00:00:00 GMT-0800\\\" \")\n",
    "    annotation.write(\"annotation-modificationDate=\\\"December 9 9999 00:00:00 GMT-0700\\\" \")\n",
    "    # Default lab username\n",
    "    annotation.write(\"annotation-modificationUser=\\\"Basolateral\\\" \")\n",
    "    annotation.write(\"annotation-category=\\\"\")\n",
    "    # Write event tag\n",
    "    annotation.write(event)\n",
    "    annotation.write(\"\\\" \")\n",
    "    # Dummy image; not sure what this is used for\n",
    "    annotation.write(\"image=\\\"images/dummy.jpg\\\">\")\n",
    "    # Write event tag again\n",
    "    annotation.write(\"<category name=\\\"\")\n",
    "    annotation.write(event)\n",
    "    annotation.write(\"\\\"></category>\\n\")\n",
    "    annotation.write(\"\\t</event>\")\n",
    "\n",
    "# Close <data> element\n",
    "annotation.write(\"\\n</data>\")\n",
    "annotation.close() "
   ]
  },
  {
   "cell_type": "code",
   "execution_count": 78,
   "metadata": {},
   "outputs": [],
   "source": [
    "# Send annotation folder to OUTPUT\n",
    "OUTPUT_FILE_PATH = TIMESTAMP_FILE_PATH[6:len(TIMESTAMP_FILE_PATH) - 4] + \".annotation\"\n",
    "\n",
    "# Create annotation folder at \n",
    "try:\n",
    "    shutil.copytree(\"template.annotation\", \"OUTPUT/\" + OUTPUT_FILE_PATH)\n",
    "except FileExistsError:\n",
    "    shutil.rmtree(\"OUTPUT/\" + OUTPUT_FILE_PATH)\n",
    "    shutil.copytree(\"template.annotation\", \"OUTPUT/\" + OUTPUT_FILE_PATH)"
   ]
  },
  {
   "cell_type": "code",
   "execution_count": null,
   "metadata": {},
   "outputs": [],
   "source": []
  },
  {
   "cell_type": "code",
   "execution_count": null,
   "metadata": {
    "collapsed": true
   },
   "outputs": [],
   "source": []
  }
 ],
 "metadata": {
  "kernelspec": {
   "display_name": "Python [conda root]",
   "language": "python",
   "name": "conda-root-py"
  },
  "language_info": {
   "codemirror_mode": {
    "name": "ipython",
    "version": 3
   },
   "file_extension": ".py",
   "mimetype": "text/x-python",
   "name": "python",
   "nbconvert_exporter": "python",
   "pygments_lexer": "ipython3",
   "version": "3.5.2"
  }
 },
 "nbformat": 4,
 "nbformat_minor": 2
}
